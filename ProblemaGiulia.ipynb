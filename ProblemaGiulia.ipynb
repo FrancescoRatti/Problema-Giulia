{
 "cells": [
  {
   "cell_type": "markdown",
   "metadata": {},
   "source": [
    "Problema di Giulia\n",
    "\n",
    "$$\\sqrt{x + 1} = -2$$\n",
    "\n",
    "\n",
    "Eleviamo al quadrato entrambi i membri dell'equazione\n",
    "\n",
    "$${x + 1} = 4$$\n",
    "\n",
    "Da cui\n",
    "\n",
    "$$x = 3$$\n"
   ]
  },
  {
   "cell_type": "markdown",
   "metadata": {},
   "source": [
    "Risolviamo il problema graficamente guardando quando la funzione\n",
    "$$y=\\sqrt{x + 1}$$ \n",
    "incontra la funzione costante $$y=-2$$\n"
   ]
  },
  {
   "cell_type": "code",
   "execution_count": null,
   "metadata": {
    "collapsed": true
   },
   "outputs": [],
   "source": [
    "PLOTTIAMO LE FUNZIONI!!!!"
   ]
  },
  {
   "cell_type": "code",
   "execution_count": 3,
   "metadata": {
    "collapsed": false
   },
   "outputs": [
    {
     "data": {
      "image/png": "[encoded data removed]",
      "text/plain": [
       "<matplotlib.figure.Figure at 0x2714650f98>"
      ]
     },
     "metadata": {},
     "output_type": "display_data"
    }
   ],
   "source": [
    "import numpy as np\n",
    "import matplotlib.pyplot as plt\n",
    "\n",
    "xval=np.arange(-1,5,0.1) \n",
    "\n",
    "yval=np.sqrt(xval+1)\n",
    "yval2=np.dot(yval,-1)\n",
    "\n",
    "y2=np.empty(len(xval))\n",
    "y2.fill(-2)\n",
    "\n",
    "plt.plot(xval, yval)\n",
    "plt.plot(xval,y2)\n",
    "plt.plot(xval,yval2)\n",
    "\n",
    "plt.grid()\n",
    "\n",
    "plt.show()"
   ]
  },
  {
   "cell_type": "markdown",
   "metadata": {},
   "source": [
    "In blue la funzione con risultati positivi in verde la funzione con risultati negativi e in arancio la funzione costante -2"
   ]
  },
  {
   "cell_type": "code",
   "execution_count": null,
   "metadata": {
    "collapsed": true
   },
   "outputs": [],
   "source": [
    "La funzione verde incontra la funzione arancione a x=3"
   ]
  }
 ],
 "metadata": {
  "kernelspec": {
   "display_name": "Python 3",
   "language": "python",
   "name": "python3"
  },
  "language_info": {
   "codemirror_mode": {
    "name": "ipython",
    "version": 3
   },
   "file_extension": ".py",
   "mimetype": "text/x-python",
   "name": "python",
   "nbconvert_exporter": "python",
   "pygments_lexer": "ipython3",
   "version": "3.6.0"
  }
 },
 "nbformat": 4,
 "nbformat_minor": 2
}
